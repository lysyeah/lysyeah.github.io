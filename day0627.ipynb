{
  "nbformat": 4,
  "nbformat_minor": 0,
  "metadata": {
    "colab": {
      "name": "day0627.ipynb",
      "provenance": [],
      "collapsed_sections": []
    },
    "kernelspec": {
      "name": "python3",
      "display_name": "Python 3"
    },
    "language_info": {
      "name": "python"
    }
  },
  "cells": [
    {
      "cell_type": "markdown",
      "source": [
        "---\n",
        "title: \"Python 기초문법\"\n",
        "date: '2022-06-27'\n",
        "---"
      ],
      "metadata": {
        "id": "KaQV_brBzBSi"
      }
    },
    {
      "cell_type": "markdown",
      "source": [
        "- Hello world\n"
      ],
      "metadata": {
        "id": "zKiiddqmz2ZK"
      }
    },
    {
      "cell_type": "code",
      "source": [
        "print(\"Hello world\")"
      ],
      "metadata": {
        "colab": {
          "base_uri": "https://localhost:8080/"
        },
        "id": "KQSC-FdCz714",
        "outputId": "0101f3c0-b30f-47ce-e8ad-dc7cc9e362e8"
      },
      "execution_count": null,
      "outputs": [
        {
          "output_type": "stream",
          "name": "stdout",
          "text": [
            "Hello world\n"
          ]
        }
      ]
    },
    {
      "cell_type": "markdown",
      "source": [
        "## 주석처리\n",
        "- 1줄 주석, 여러줄 주석 처리\n",
        "- 여러 줄 주석 처리\n",
        "  + 함수 또는 클래스를 문서화 할 때 주로 사용\n",
        "- 프로젝트 할 때\n",
        "  + 전체 공정 100\n",
        "  + 코드 / 코드 문서화 / 한글 작업 문서화\n",
        "  + 코드 문서화가 가장 어렵다.  "
      ],
      "metadata": {
        "id": "VcSiD_c90Cyw"
      }
    },
    {
      "cell_type": "markdown",
      "source": [
        ""
      ],
      "metadata": {
        "id": "35jnCBRu0G3o"
      }
    },
    {
      "cell_type": "code",
      "source": [
        "# print() 함수 사용\n",
        "print(\"1줄 주석\")\n",
        "\"\"\"\n",
        "여러 줄 주석\n",
        "쌍따옴표 3개를 입력해주세요\n",
        "앞과 뒤로 \n",
        "\"\"\"\n",
        "\n",
        "print(\"여러 줄 주석\")\n"
      ],
      "metadata": {
        "colab": {
          "base_uri": "https://localhost:8080/"
        },
        "id": "6MKB_H1X0Ks5",
        "outputId": "a921a5d9-c50b-4567-a8cd-c3237662f118"
      },
      "execution_count": null,
      "outputs": [
        {
          "output_type": "stream",
          "name": "stdout",
          "text": [
            "1줄 주석\n",
            "여러 줄 주석\n"
          ]
        }
      ]
    },
    {
      "cell_type": "markdown",
      "source": [
        "## 변수 (Scalar)\n",
        "- 자료형\n",
        "- Scalar형 Non-Scalar형\n"
      ],
      "metadata": {
        "id": "vjID5BOb5R2D"
      }
    },
    {
      "cell_type": "markdown",
      "source": [
        "### 수치형 자료형\n",
        "- int, float"
      ],
      "metadata": {
        "id": "Y2_-jn9C5lJS"
      }
    },
    {
      "cell_type": "code",
      "source": [
        "num_int = 1\n",
        "print(num_int)\n",
        "print(type(num_int))\n"
      ],
      "metadata": {
        "colab": {
          "base_uri": "https://localhost:8080/"
        },
        "id": "V_ftcy0U5jdD",
        "outputId": "7ac45291-1247-4957-eca0-365b2066600f"
      },
      "execution_count": null,
      "outputs": [
        {
          "output_type": "stream",
          "name": "stdout",
          "text": [
            "1\n",
            "<class 'int'>\n"
          ]
        }
      ]
    },
    {
      "cell_type": "markdown",
      "source": [
        ""
      ],
      "metadata": {
        "id": "NYboA5iD6Hb8"
      }
    },
    {
      "cell_type": "code",
      "source": [
        "num_float = 0.1\n",
        "print(num_float)\n",
        "print(type(num_float))"
      ],
      "metadata": {
        "colab": {
          "base_uri": "https://localhost:8080/"
        },
        "id": "KNWjRMhz6ImD",
        "outputId": "dd0354d1-0781-4103-9400-3877cb3228c5"
      },
      "execution_count": null,
      "outputs": [
        {
          "output_type": "stream",
          "name": "stdout",
          "text": [
            "0.1\n",
            "<class 'float'>\n"
          ]
        }
      ]
    },
    {
      "cell_type": "markdown",
      "source": [
        "### Bool형\n",
        "- True, False\n",
        "- R에선 모든 대문자: TRUE, FALSE\n"
      ],
      "metadata": {
        "id": "h92yIZNY6T-H"
      }
    },
    {
      "cell_type": "code",
      "source": [
        "bool_true = True\n",
        "print(bool_true)\n",
        "print(type(bool_true))"
      ],
      "metadata": {
        "colab": {
          "base_uri": "https://localhost:8080/"
        },
        "id": "Z4iVsDJI6ful",
        "outputId": "5d6be38f-321f-4ee1-d782-c778b3436d38"
      },
      "execution_count": null,
      "outputs": [
        {
          "output_type": "stream",
          "name": "stdout",
          "text": [
            "True\n",
            "<class 'bool'>\n"
          ]
        }
      ]
    },
    {
      "cell_type": "markdown",
      "source": [
        "### None 자료\n",
        "- Null값, 값이 정해지지 않은 자료형\n"
      ],
      "metadata": {
        "id": "diQgRAT56vHL"
      }
    },
    {
      "cell_type": "code",
      "source": [
        "none_x = None\n",
        "print(none_x)\n",
        "print(type(none_x))"
      ],
      "metadata": {
        "colab": {
          "base_uri": "https://localhost:8080/"
        },
        "id": "3fY_-6A963IK",
        "outputId": "662b48ce-63fc-4a48-c7e2-8e00170e15fc"
      },
      "execution_count": null,
      "outputs": [
        {
          "output_type": "stream",
          "name": "stdout",
          "text": [
            "None\n",
            "<class 'NoneType'>\n"
          ]
        }
      ]
    },
    {
      "cell_type": "markdown",
      "source": [
        "## 사칙연산\n",
        "- 정수형 사칙연산, 실수형 사칙연상\n",
        "- 결괏값의 자료형\n"
      ],
      "metadata": {
        "id": "UakK-KNG7YNN"
      }
    },
    {
      "cell_type": "markdown",
      "source": [
        "### 정수형 사칙연산"
      ],
      "metadata": {
        "id": "ahmT_aF17zqx"
      }
    },
    {
      "cell_type": "code",
      "source": [
        "a = 3\n",
        "b = 2\n",
        "print('a + b =', a+b)"
      ],
      "metadata": {
        "colab": {
          "base_uri": "https://localhost:8080/"
        },
        "id": "JLcGJjN-7sO5",
        "outputId": "dff8dde3-a5d5-4479-9927-4907eae2b64e"
      },
      "execution_count": null,
      "outputs": [
        {
          "output_type": "stream",
          "name": "stdout",
          "text": [
            "a + b = 5\n"
          ]
        }
      ]
    },
    {
      "cell_type": "markdown",
      "source": [
        "### 실수형 사칙연산"
      ],
      "metadata": {
        "id": "WCT8R39n75DJ"
      }
    },
    {
      "cell_type": "code",
      "source": [
        "a = 1.5\n",
        "b = 2.5\n",
        "print('a + b = ', a+b)"
      ],
      "metadata": {
        "colab": {
          "base_uri": "https://localhost:8080/"
        },
        "id": "gexR9y0z788p",
        "outputId": "99fd6fe8-2482-48db-969a-a2293b0c2c00"
      },
      "execution_count": null,
      "outputs": [
        {
          "output_type": "stream",
          "name": "stdout",
          "text": [
            "a + b =  4.0\n"
          ]
        }
      ]
    },
    {
      "cell_type": "code",
      "source": [
        "a = 3.3\n",
        "b = 6.4\n",
        "print('a + b = ', a+b )\n",
        "print('a - b = ', a-b )\n",
        "print('a*b = ', a*b)\n",
        "print('a/b=', a/b)"
      ],
      "metadata": {
        "colab": {
          "base_uri": "https://localhost:8080/"
        },
        "id": "Eln0tQkc8gfs",
        "outputId": "0c8c66af-cf2c-41be-ff37-e27c753f1ee5"
      },
      "execution_count": null,
      "outputs": [
        {
          "output_type": "stream",
          "name": "stdout",
          "text": [
            "a + b =  9.7\n",
            "a - b =  -3.1000000000000005\n",
            "a*b =  21.12\n",
            "a/b= 0.5156249999999999\n"
          ]
        }
      ]
    },
    {
      "cell_type": "markdown",
      "source": [
        "## 논리형 연산자\n",
        "- Bool형\n",
        "- True와 False값으로 정의\n",
        "- 조건식\n",
        "  + 교집합(=and), 합집합(=or)\n",
        "  "
      ],
      "metadata": {
        "id": "yn5GcVOy9X-j"
      }
    },
    {
      "cell_type": "code",
      "source": [
        "print(True and True)\n",
        "print(True and False)\n",
        "print(False and True)\n",
        "print(False and False)"
      ],
      "metadata": {
        "colab": {
          "base_uri": "https://localhost:8080/"
        },
        "id": "kCQA5DJJ9tns",
        "outputId": "84de3e33-a09f-492f-e102-43d2f7cd2a7c"
      },
      "execution_count": null,
      "outputs": [
        {
          "output_type": "stream",
          "name": "stdout",
          "text": [
            "True\n",
            "False\n",
            "False\n",
            "False\n"
          ]
        }
      ]
    },
    {
      "cell_type": "code",
      "source": [
        "print(True or True)\n",
        "print(True or False)\n",
        "print(False or True)\n",
        "print(False or False)"
      ],
      "metadata": {
        "colab": {
          "base_uri": "https://localhost:8080/"
        },
        "id": "iF2VEsc096f0",
        "outputId": "e60a1b82-449f-4508-ee68-3960f51c28f4"
      },
      "execution_count": null,
      "outputs": [
        {
          "output_type": "stream",
          "name": "stdout",
          "text": [
            "True\n",
            "True\n",
            "True\n",
            "False\n"
          ]
        }
      ]
    },
    {
      "cell_type": "markdown",
      "source": [
        "## 비교 연산자\n",
        "- 비교 연산자는 부등호를 의미한다.\n"
      ],
      "metadata": {
        "id": "cUhSKUKm-IWb"
      }
    },
    {
      "cell_type": "code",
      "source": [
        "print(4>3) #참 = True\n",
        "print(4<3) #거짓 = False\n",
        "\n",
        "print(4>3 and 4<3)\n",
        "print(4>3 or 4<3)"
      ],
      "metadata": {
        "colab": {
          "base_uri": "https://localhost:8080/"
        },
        "id": "aSdIjlv6-M4U",
        "outputId": "a9ece47d-0190-4040-b323-16f2de306cb0"
      },
      "execution_count": null,
      "outputs": [
        {
          "output_type": "stream",
          "name": "stdout",
          "text": [
            "True\n",
            "False\n",
            "False\n",
            "True\n"
          ]
        }
      ]
    },
    {
      "cell_type": "markdown",
      "source": [
        "## 논리형 & 비교 연산자 응용\n",
        "- input()\n",
        "- 형변환\n",
        "- 데이터 타입을 변경하는 것\n"
      ],
      "metadata": {
        "id": "c01rYr-Y-soc"
      }
    },
    {
      "cell_type": "code",
      "source": [
        "var = int(input(\"숫자를 입력하세요..!\"))\n",
        "print(var)\n",
        "print(type(var))"
      ],
      "metadata": {
        "colab": {
          "base_uri": "https://localhost:8080/"
        },
        "id": "qhYMLa-b-5Es",
        "outputId": "c06da3a0-2f8b-4a13-d4d0-468b0187f7bd"
      },
      "execution_count": null,
      "outputs": [
        {
          "output_type": "stream",
          "name": "stdout",
          "text": [
            "숫자를 입력하세요..!1\n",
            "1\n",
            "<class 'int'>\n"
          ]
        }
      ]
    },
    {
      "cell_type": "code",
      "source": [
        "num1 = int(input(\"첫번째 숫자를 입력하세요..!\"))\n",
        "num2 = int(input(\"두번째 숫자를 입력하세요..!\"))\n",
        "num3 = int(input(\"세번째 숫자를 입력하세요..!\"))\n",
        "num4 = int(input(\"네번째 숫자를 입력하세요..!\"))"
      ],
      "metadata": {
        "colab": {
          "base_uri": "https://localhost:8080/"
        },
        "id": "qgb6HLJr_w1c",
        "outputId": "55204e99-b342-472e-ec34-3f972ea7f31d"
      },
      "execution_count": null,
      "outputs": [
        {
          "name": "stdout",
          "output_type": "stream",
          "text": [
            "첫번째 숫자를 입력하세요..!1\n",
            "두번째 숫자를 입력하세요..!2\n",
            "세번째 숫자를 입력하세요..!3\n",
            "네번째 숫자를 입력하세요..!4\n"
          ]
        }
      ]
    },
    {
      "cell_type": "code",
      "source": [
        "var1 = num1 >= num2 #False\n",
        "var2 = num3 < num4 #True"
      ],
      "metadata": {
        "id": "KL20chnDANpE"
      },
      "execution_count": null,
      "outputs": []
    },
    {
      "cell_type": "code",
      "source": [
        "print(var1 and var2)\n",
        "print(var1 or var2)"
      ],
      "metadata": {
        "colab": {
          "base_uri": "https://localhost:8080/"
        },
        "id": "D-ycml4uAyFt",
        "outputId": "454ca032-86c1-4c69-8b12-05791d5d03f5"
      },
      "execution_count": null,
      "outputs": [
        {
          "output_type": "stream",
          "name": "stdout",
          "text": [
            "False\n",
            "True\n"
          ]
        }
      ]
    },
    {
      "cell_type": "markdown",
      "source": [
        "## String\n",
        "- Non-Scalar\n"
      ],
      "metadata": {
        "id": "m6Jwh4caBtlt"
      }
    },
    {
      "cell_type": "code",
      "source": [
        "print('Hello world')\n",
        "print(\"Hello world\")\n",
        "\n",
        "print(\"'Hello world'\")\n",
        "print('\"Hello world\"')\n"
      ],
      "metadata": {
        "colab": {
          "base_uri": "https://localhost:8080/"
        },
        "id": "hWUCJDwiB3Qn",
        "outputId": "bad6a1d7-cc01-44c5-df9d-bc794c99dcb4"
      },
      "execution_count": null,
      "outputs": [
        {
          "output_type": "stream",
          "name": "stdout",
          "text": [
            "Hello world\n",
            "Hello world\n",
            "'Hello world'\n",
            "\"Hello world\"\n"
          ]
        }
      ]
    },
    {
      "cell_type": "markdown",
      "source": [
        "## String Operator\n",
        "- 문자열 연산자\n",
        "- +, * 만 가능하다."
      ],
      "metadata": {
        "id": "BksjAf0mCb1A"
      }
    },
    {
      "cell_type": "code",
      "source": [
        "str1 = \"Hello \"\n",
        "str2 = \"World \"\n",
        "print(str1 + str2)"
      ],
      "metadata": {
        "colab": {
          "base_uri": "https://localhost:8080/"
        },
        "id": "OdY3DzjeCkpO",
        "outputId": "2989ca90-1393-4db5-9e99-79a44cdea817"
      },
      "execution_count": null,
      "outputs": [
        {
          "output_type": "stream",
          "name": "stdout",
          "text": [
            "Hello World \n"
          ]
        }
      ]
    },
    {
      "cell_type": "code",
      "source": [
        "greet = str1 + str2\n",
        "print(greet *8)"
      ],
      "metadata": {
        "colab": {
          "base_uri": "https://localhost:8080/"
        },
        "id": "DfJkwbKlC1B9",
        "outputId": "cb57d1ad-7f86-45d7-917f-7d3de62be516"
      },
      "execution_count": null,
      "outputs": [
        {
          "output_type": "stream",
          "name": "stdout",
          "text": [
            "Hello World Hello World Hello World Hello World Hello World Hello World Hello World Hello World \n"
          ]
        }
      ]
    },
    {
      "cell_type": "code",
      "source": [
        "a = \"Pyhone\"\n",
        "a"
      ],
      "metadata": {
        "colab": {
          "base_uri": "https://localhost:8080/",
          "height": 35
        },
        "id": "RW5jVSXXLSOg",
        "outputId": "59228007-fba9-451f-e1f2-d618755c67e4"
      },
      "execution_count": null,
      "outputs": [
        {
          "output_type": "execute_result",
          "data": {
            "text/plain": [
              "'Pyhone'"
            ],
            "application/vnd.google.colaboratory.intrinsic+json": {
              "type": "string"
            }
          },
          "metadata": {},
          "execution_count": 51
        }
      ]
    },
    {
      "cell_type": "markdown",
      "source": [
        "## 조건문 if"
      ],
      "metadata": {
        "id": "SymZsNyYLy-n"
      }
    },
    {
      "cell_type": "code",
      "source": [
        "a = 3\n",
        "if a > 1:\n",
        "  print (\"a is greater than 1\") #if a > 1: 다음 문장은 Tab으로 들여쓰기를 해야한다."
      ],
      "metadata": {
        "colab": {
          "base_uri": "https://localhost:8080/"
        },
        "id": "3XurTH-9LlUx",
        "outputId": "046ae974-d80a-46fd-9772-bbd6ea2be183"
      },
      "execution_count": null,
      "outputs": [
        {
          "output_type": "stream",
          "name": "stdout",
          "text": [
            "a is greater than 1\n"
          ]
        }
      ]
    },
    {
      "cell_type": "markdown",
      "source": [
        "## 반복문 for\n"
      ],
      "metadata": {
        "id": "3sVRTCq0MLwT"
      }
    },
    {
      "cell_type": "code",
      "source": [
        "a = \"Pthon\"\n",
        "for a in [1,2,4]: \n",
        "  print(a)"
      ],
      "metadata": {
        "colab": {
          "base_uri": "https://localhost:8080/"
        },
        "id": "o4nzC_6DMOZr",
        "outputId": "006138ad-0726-4545-a5b1-e1fc35bc4e7f"
      },
      "execution_count": null,
      "outputs": [
        {
          "output_type": "stream",
          "name": "stdout",
          "text": [
            "1\n",
            "2\n",
            "4\n"
          ]
        }
      ]
    },
    {
      "cell_type": "markdown",
      "source": [
        "## 반복문 while"
      ],
      "metadata": {
        "id": "xR4M9K62NqUm"
      }
    },
    {
      "cell_type": "code",
      "source": [
        "i = 0\n",
        "while i < 3:\n",
        "  i = i++1\n",
        "  print(i)"
      ],
      "metadata": {
        "colab": {
          "base_uri": "https://localhost:8080/"
        },
        "id": "kSGNQ3YFNsPh",
        "outputId": "b473b752-15aa-4366-df31-f921975faa55"
      },
      "execution_count": null,
      "outputs": [
        {
          "output_type": "stream",
          "name": "stdout",
          "text": [
            "1\n",
            "2\n",
            "3\n"
          ]
        }
      ]
    },
    {
      "cell_type": "markdown",
      "source": [
        "## 함수"
      ],
      "metadata": {
        "id": "18sDl4hoOJrj"
      }
    },
    {
      "cell_type": "code",
      "source": [
        "def add(a, b):\n",
        "  return a+b\n",
        "  \n",
        "add(3,4)"
      ],
      "metadata": {
        "colab": {
          "base_uri": "https://localhost:8080/"
        },
        "id": "0-qp7ITpOLbr",
        "outputId": "70a2fe02-506c-4801-ad5b-bb0abc2ddb2d"
      },
      "execution_count": null,
      "outputs": [
        {
          "output_type": "execute_result",
          "data": {
            "text/plain": [
              "7"
            ]
          },
          "metadata": {},
          "execution_count": 63
        }
      ]
    },
    {
      "cell_type": "markdown",
      "source": [
        "##8진수와 16진수 #진수는잘쓰이진 않음"
      ],
      "metadata": {
        "id": "09HlweY_QtX5"
      }
    },
    {
      "cell_type": "code",
      "source": [
        "a = 0o177 #8진수\n",
        "b = 0xABC\n",
        "print(a,b)"
      ],
      "metadata": {
        "colab": {
          "base_uri": "https://localhost:8080/"
        },
        "id": "n9rrMpx1QwOq",
        "outputId": "a1f8e213-6c14-47c0-ac00-d1e99ec4997f"
      },
      "execution_count": null,
      "outputs": [
        {
          "output_type": "stream",
          "name": "stdout",
          "text": [
            "127 2748\n"
          ]
        }
      ]
    },
    {
      "cell_type": "markdown",
      "source": [
        "## 사칙연산"
      ],
      "metadata": {
        "id": "bx1WYS4TRWvy"
      }
    },
    {
      "cell_type": "code",
      "source": [
        "a = 3\n",
        "b = 4\n",
        "a ** b"
      ],
      "metadata": {
        "colab": {
          "base_uri": "https://localhost:8080/"
        },
        "id": "zdfgv-F0RYS6",
        "outputId": "55423f33-3cff-449a-ec66-c8c1c2456690"
      },
      "execution_count": null,
      "outputs": [
        {
          "output_type": "execute_result",
          "data": {
            "text/plain": [
              "81"
            ]
          },
          "metadata": {},
          "execution_count": 69
        }
      ]
    },
    {
      "cell_type": "markdown",
      "source": [
        "### 나눗셈 후 나머지를 반환하는 % 연산자"
      ],
      "metadata": {
        "id": "2_CttrHTRr_S"
      }
    },
    {
      "cell_type": "code",
      "source": [
        "7 % 3"
      ],
      "metadata": {
        "colab": {
          "base_uri": "https://localhost:8080/"
        },
        "id": "j94JVjFORlzC",
        "outputId": "14332dfa-f2fb-44a8-8ff6-1a7458017f43"
      },
      "execution_count": null,
      "outputs": [
        {
          "output_type": "execute_result",
          "data": {
            "text/plain": [
              "1"
            ]
          },
          "metadata": {},
          "execution_count": 70
        }
      ]
    },
    {
      "cell_type": "code",
      "source": [
        "3%7"
      ],
      "metadata": {
        "colab": {
          "base_uri": "https://localhost:8080/"
        },
        "id": "meIfeFR9RqBy",
        "outputId": "c613c1df-b39c-45a8-81e8-2c3f3c40b03a"
      },
      "execution_count": null,
      "outputs": [
        {
          "output_type": "execute_result",
          "data": {
            "text/plain": [
              "3"
            ]
          },
          "metadata": {},
          "execution_count": 71
        }
      ]
    },
    {
      "cell_type": "markdown",
      "source": [
        "나눗셈 후 몫을 반환하는 //연산자"
      ],
      "metadata": {
        "id": "jlNGtNMuR1K6"
      }
    },
    {
      "cell_type": "code",
      "source": [
        "7 //4 "
      ],
      "metadata": {
        "colab": {
          "base_uri": "https://localhost:8080/"
        },
        "id": "AJPxHGFzR4Wb",
        "outputId": "e6cfe812-3042-4ad1-dba7-d3c5f1cd4429"
      },
      "execution_count": null,
      "outputs": [
        {
          "output_type": "execute_result",
          "data": {
            "text/plain": [
              "1"
            ]
          },
          "metadata": {},
          "execution_count": 72
        }
      ]
    },
    {
      "cell_type": "markdown",
      "source": [
        "1. 문자열에 작은 따옴표 ('')포함시키기"
      ],
      "metadata": {
        "id": "WiNkav05fQKH"
      }
    },
    {
      "cell_type": "code",
      "source": [
        "food = \"Pyhon's favorite food is perl\" #''로 하면 오류가 발생한다.\n",
        "food"
      ],
      "metadata": {
        "colab": {
          "base_uri": "https://localhost:8080/",
          "height": 35
        },
        "id": "vqO5vdxjfTaf",
        "outputId": "d42917a9-b5ed-4ff5-8df2-760d0f31aac4"
      },
      "execution_count": null,
      "outputs": [
        {
          "output_type": "execute_result",
          "data": {
            "text/plain": [
              "\"Pyhon's favorite food is perl\""
            ],
            "application/vnd.google.colaboratory.intrinsic+json": {
              "type": "string"
            }
          },
          "metadata": {},
          "execution_count": 74
        }
      ]
    },
    {
      "cell_type": "code",
      "source": [
        ""
      ],
      "metadata": {
        "id": "tS1ot6hxgDvX"
      },
      "execution_count": null,
      "outputs": []
    },
    {
      "cell_type": "markdown",
      "source": [
        "## 문자열 인덱싱\n",
        "- 인덱싱은 0 번째부터 시작"
      ],
      "metadata": {
        "id": "TUnvTZa1htlJ"
      }
    },
    {
      "cell_type": "code",
      "source": [
        "greeting = \"Hello Kaggle\"\n",
        "i = 7\n",
        "print(greeting[i]) # 이렇게 하는 것이 빈번하다. 제대로 된 것인지 확인할 때 쓴다\n",
        "print(greeting)\n",
        "print(greeting[4])"
      ],
      "metadata": {
        "colab": {
          "base_uri": "https://localhost:8080/"
        },
        "id": "Fr1nxywDhzlP",
        "outputId": "612928dd-928b-465a-ac21-12206366a580"
      },
      "execution_count": null,
      "outputs": [
        {
          "output_type": "stream",
          "name": "stdout",
          "text": [
            "a\n",
            "Hello Kaggle\n",
            "o\n"
          ]
        }
      ]
    },
    {
      "cell_type": "code",
      "source": [
        "greeting = \"Hello Kaggle\"\n",
        "i = int(input(\"숫자를 입력하세요...!\"))\n",
        "print(greeting[i])"
      ],
      "metadata": {
        "colab": {
          "base_uri": "https://localhost:8080/"
        },
        "id": "Og20e-mLiks7",
        "outputId": "3605f17d-8880-4cf0-bd14-1aff5e37f868"
      },
      "execution_count": null,
      "outputs": [
        {
          "output_type": "stream",
          "name": "stdout",
          "text": [
            "숫자를 입력하세요...!2\n",
            "l\n"
          ]
        }
      ]
    },
    {
      "cell_type": "markdown",
      "source": [
        "##슬라이싱"
      ],
      "metadata": {
        "id": "OAvfDZShi70Q"
      }
    },
    {
      "cell_type": "code",
      "source": [
        "greeting = \"Hello Kaggle\"\n",
        "# print(greeting[시작인덱스:끝인덱스-1])\n",
        "print(greeting[0:8])\n",
        "print(greeting[:8])\n",
        "print(greeting[6:])\n",
        "print(greeting[0:10:2])\n",
        "print(greeting[0:10:3])\n",
        "print(greeting[0:10:4])\n"
      ],
      "metadata": {
        "colab": {
          "base_uri": "https://localhost:8080/"
        },
        "id": "4RbcC1vDi9LC",
        "outputId": "f208ce13-d90e-43fb-8cc7-b89cfa4a1730"
      },
      "execution_count": null,
      "outputs": [
        {
          "output_type": "stream",
          "name": "stdout",
          "text": [
            "Hello Ka\n",
            "Hello Ka\n",
            "Kaggle\n",
            "HloKg\n",
            "HlKg\n",
            "Hog\n"
          ]
        }
      ]
    },
    {
      "cell_type": "code",
      "source": [
        "alphabet_letter = \"abcdefghijklmnopqrstuvwxyz \"\n",
        "print(alphabet_letter[0::2])"
      ],
      "metadata": {
        "colab": {
          "base_uri": "https://localhost:8080/"
        },
        "id": "H2sqYxV8kz3y",
        "outputId": "f7b27e4f-2a29-48fc-b512-b318b5302bb5"
      },
      "execution_count": null,
      "outputs": [
        {
          "output_type": "stream",
          "name": "stdout",
          "text": [
            "acegikmoqsuwy \n"
          ]
        }
      ]
    },
    {
      "cell_type": "code",
      "source": [
        "greeting = \"Hello Kaggle\"\n",
        "print(greeting[100])"
      ],
      "metadata": {
        "colab": {
          "base_uri": "https://localhost:8080/",
          "height": 193
        },
        "id": "Io4VBGX1lUwR",
        "outputId": "5cbc59af-7355-487f-fff0-5877302acc76"
      },
      "execution_count": null,
      "outputs": [
        {
          "output_type": "error",
          "ename": "IndexError",
          "evalue": "ignored",
          "traceback": [
            "\u001b[0;31m---------------------------------------------------------------------------\u001b[0m",
            "\u001b[0;31mIndexError\u001b[0m                                Traceback (most recent call last)",
            "\u001b[0;32m<ipython-input-104-128f57967a72>\u001b[0m in \u001b[0;36m<module>\u001b[0;34m()\u001b[0m\n\u001b[1;32m      1\u001b[0m \u001b[0mgreeting\u001b[0m \u001b[0;34m=\u001b[0m \u001b[0;34m\"Hello Kaggle\"\u001b[0m\u001b[0;34m\u001b[0m\u001b[0;34m\u001b[0m\u001b[0m\n\u001b[0;32m----> 2\u001b[0;31m \u001b[0mprint\u001b[0m\u001b[0;34m(\u001b[0m\u001b[0mgreeting\u001b[0m\u001b[0;34m[\u001b[0m\u001b[0;36m100\u001b[0m\u001b[0;34m]\u001b[0m\u001b[0;34m)\u001b[0m\u001b[0;34m\u001b[0m\u001b[0;34m\u001b[0m\u001b[0m\n\u001b[0m",
            "\u001b[0;31mIndexError\u001b[0m: string index out of range"
          ]
        }
      ]
    },
    {
      "cell_type": "code",
      "source": [
        "greeting = \"Hello Kaggle\"\n",
        "print(greeting[11])"
      ],
      "metadata": {
        "colab": {
          "base_uri": "https://localhost:8080/"
        },
        "id": "Oc_V5NKJlrMp",
        "outputId": "f3d923fd-d8f6-46ca-fc5a-9490487c590d"
      },
      "execution_count": null,
      "outputs": [
        {
          "output_type": "stream",
          "name": "stdout",
          "text": [
            "e\n"
          ]
        }
      ]
    },
    {
      "cell_type": "markdown",
      "source": [
        "## 문자열 관련 메소드\n",
        " + split()\n",
        " + srt()\n",
        " + etc"
      ],
      "metadata": {
        "id": "LYvA-hVcl7Tq"
      }
    },
    {
      "cell_type": "markdown",
      "source": [
        "## 리스트\n",
        "- []로 표시.\n",
        "- [item1, item2, item3]"
      ],
      "metadata": {
        "id": "HSZ7xDTDmKRR"
      }
    },
    {
      "cell_type": "code",
      "source": [
        "a = [] # 빈 리스트\n",
        "a = function = list # 빈 리스트 생성\n",
        "b = [1] # 숫자 요소\n",
        "c = ['apple'] # 문자 요소\n",
        "d = [1, 2, ['aplpe'],'apple']\n",
        "print(d)"
      ],
      "metadata": {
        "colab": {
          "base_uri": "https://localhost:8080/"
        },
        "id": "4IQdtSaQmeyS",
        "outputId": "ca610543-188a-4b8d-cc11-fb40fa2d423d"
      },
      "execution_count": null,
      "outputs": [
        {
          "output_type": "stream",
          "name": "stdout",
          "text": [
            "[1, 2, ['aplpe'], 'apple']\n"
          ]
        }
      ]
    },
    {
      "cell_type": "markdown",
      "source": [
        "### 리스트 값 수정하기\n",
        "- 리스트 값 수정"
      ],
      "metadata": {
        "id": "6l8xWWPqnKIy"
      }
    },
    {
      "cell_type": "code",
      "source": [
        "a = [0,1,2]\n",
        "a[1] = \"이용수\"\n",
        "print(a)"
      ],
      "metadata": {
        "colab": {
          "base_uri": "https://localhost:8080/"
        },
        "id": "eesMYAjCnPs1",
        "outputId": "62020474-1b6c-4b37-8888-291cfe73e5b5"
      },
      "execution_count": null,
      "outputs": [
        {
          "output_type": "stream",
          "name": "stdout",
          "text": [
            "[0, '이용수', 2]\n"
          ]
        }
      ]
    },
    {
      "cell_type": "markdown",
      "source": [
        "### 리스트 값 추가하기\n",
        "- 메소드 사용"
      ],
      "metadata": {
        "id": "4FdCTw9QnkzK"
      }
    },
    {
      "cell_type": "code",
      "source": [
        "a = [100,200,300]\n",
        "a.append(400)  #a = a.append(400) 이렇게 하지 않고 바로 a.append로 한다. \n",
        "print(a)\n",
        "\n",
        "a.append([500,600])\n",
        "print(a)"
      ],
      "metadata": {
        "colab": {
          "base_uri": "https://localhost:8080/"
        },
        "id": "8RUKapM2noth",
        "outputId": "ee48ea93-72dd-49c6-af4f-d3533f5e2bf7"
      },
      "execution_count": null,
      "outputs": [
        {
          "output_type": "stream",
          "name": "stdout",
          "text": [
            "[100, 200, 300, 400]\n",
            "[100, 200, 300, 400, [500, 600]]\n"
          ]
        }
      ]
    },
    {
      "cell_type": "code",
      "source": [
        "a = [100,200,300]\n",
        "a.append(400) #하나의 값만 넣고 싶을 때\n",
        "\n",
        "print(a)\n",
        "a.extend([400,500]) # 여러 값을 넣고 싶을 때\n",
        "print(a)\n"
      ],
      "metadata": {
        "colab": {
          "base_uri": "https://localhost:8080/"
        },
        "id": "zNdygdOOoeni",
        "outputId": "b60576b3-94b6-4d5a-8434-d0efd5450cc8"
      },
      "execution_count": null,
      "outputs": [
        {
          "output_type": "stream",
          "name": "stdout",
          "text": [
            "[100, 200, 300, 400]\n",
            "[100, 200, 300, 400, 400, 500]\n"
          ]
        }
      ]
    },
    {
      "cell_type": "markdown",
      "source": [
        "## insert(인덱스 특정 위치에 값을 넣기)"
      ],
      "metadata": {
        "id": "i2m4BxoCpBMj"
      }
    },
    {
      "cell_type": "code",
      "source": [
        "a = [100,200,300]\n",
        "a.insert(0,50)\n",
        "print(a)"
      ],
      "metadata": {
        "colab": {
          "base_uri": "https://localhost:8080/"
        },
        "id": "iv0EU9PvpMwh",
        "outputId": "db712c5f-266b-4148-8475-5f93a2b3aada"
      },
      "execution_count": null,
      "outputs": [
        {
          "output_type": "stream",
          "name": "stdout",
          "text": [
            "[50, 100, 200, 300]\n"
          ]
        }
      ]
    },
    {
      "cell_type": "markdown",
      "source": [
        "### 리스트 값 삭제하기\n",
        "- remove, del"
      ],
      "metadata": {
        "id": "bw-AFb8dpax-"
      }
    },
    {
      "cell_type": "code",
      "source": [
        "a = [1,2,1,2]\n",
        "a.remove(1)\n",
        "\n",
        "print(a) # 첫번째 등장하는 1을 삭제한다\n",
        "\n",
        "a.remove(10)"
      ],
      "metadata": {
        "colab": {
          "base_uri": "https://localhost:8080/",
          "height": 229
        },
        "id": "sRkILlDOpdAH",
        "outputId": "4d23a137-492f-43ed-811d-4d97fcf18f43"
      },
      "execution_count": null,
      "outputs": [
        {
          "output_type": "stream",
          "name": "stdout",
          "text": [
            "[2, 1, 2]\n"
          ]
        },
        {
          "output_type": "error",
          "ename": "ValueError",
          "evalue": "ignored",
          "traceback": [
            "\u001b[0;31m---------------------------------------------------------------------------\u001b[0m",
            "\u001b[0;31mValueError\u001b[0m                                Traceback (most recent call last)",
            "\u001b[0;32m<ipython-input-118-90e7fa84a5d0>\u001b[0m in \u001b[0;36m<module>\u001b[0;34m()\u001b[0m\n\u001b[1;32m      4\u001b[0m \u001b[0mprint\u001b[0m\u001b[0;34m(\u001b[0m\u001b[0ma\u001b[0m\u001b[0;34m)\u001b[0m \u001b[0;31m# 첫번째 등장하는 1을 삭제한다\u001b[0m\u001b[0;34m\u001b[0m\u001b[0;34m\u001b[0m\u001b[0m\n\u001b[1;32m      5\u001b[0m \u001b[0;34m\u001b[0m\u001b[0m\n\u001b[0;32m----> 6\u001b[0;31m \u001b[0ma\u001b[0m\u001b[0;34m.\u001b[0m\u001b[0mremove\u001b[0m\u001b[0;34m(\u001b[0m\u001b[0;36m10\u001b[0m\u001b[0;34m)\u001b[0m\u001b[0;34m\u001b[0m\u001b[0;34m\u001b[0m\u001b[0m\n\u001b[0m",
            "\u001b[0;31mValueError\u001b[0m: list.remove(x): x not in list"
          ]
        }
      ]
    },
    {
      "cell_type": "code",
      "source": [
        "a = [1,2,1,2,10]\n",
        "a.remove(1)\n",
        "\n",
        "print(a) # 첫번째 등장하는 1을 삭제한다\n",
        "\n",
        "a.remove(10)\n",
        "print(a)"
      ],
      "metadata": {
        "colab": {
          "base_uri": "https://localhost:8080/"
        },
        "id": "06GLZrz0p3Py",
        "outputId": "3f635d67-c342-42fa-ae4e-c61b766240c2"
      },
      "execution_count": null,
      "outputs": [
        {
          "output_type": "stream",
          "name": "stdout",
          "text": [
            "[2, 1, 2, 10]\n",
            "[2, 1, 2]\n"
          ]
        }
      ]
    },
    {
      "cell_type": "markdown",
      "source": [
        "+del"
      ],
      "metadata": {
        "id": "H71LVg6qqCnq"
      }
    },
    {
      "cell_type": "code",
      "source": [
        "a = [0,1,2,3,4]\n",
        "del a[1]\n",
        "print(a)\n",
        "\n",
        "del a[:2]\n",
        "print(a)"
      ],
      "metadata": {
        "colab": {
          "base_uri": "https://localhost:8080/"
        },
        "id": "-nUUy6P7qDmK",
        "outputId": "63ebcebd-7c67-422e-a4ff-eec7b92e8903"
      },
      "execution_count": null,
      "outputs": [
        {
          "output_type": "stream",
          "name": "stdout",
          "text": [
            "[0, 2, 3, 4]\n",
            "[3, 4]\n"
          ]
        }
      ]
    },
    {
      "cell_type": "markdown",
      "source": [
        "##### 문자열, 리스트\n",
        "- 내장함수를 익히는 것이 포인트!!"
      ],
      "metadata": {
        "id": "9reyfI5xty49"
      }
    },
    {
      "cell_type": "markdown",
      "source": [
        "- pop()\n"
      ],
      "metadata": {
        "id": "PbrJPLyhuVr8"
      }
    },
    {
      "cell_type": "code",
      "source": [
        "a = [1,2,3,4,5]\n",
        "rem = a.pop(1)\n",
        "x = a.pop() # 마지막값 출력\n",
        "\n",
        "\n",
        "print(a)\n",
        "print(rem)\n",
        "print(x)"
      ],
      "metadata": {
        "colab": {
          "base_uri": "https://localhost:8080/"
        },
        "id": "oJXvCB9PuZLc",
        "outputId": "8f06900a-3f14-43de-ae5f-84ef964412fe"
      },
      "execution_count": null,
      "outputs": [
        {
          "output_type": "stream",
          "name": "stdout",
          "text": [
            "[1, 3, 4]\n",
            "2\n",
            "5\n"
          ]
        }
      ]
    },
    {
      "cell_type": "markdown",
      "source": [
        "- clear() : 리스트 내 모든 값 삭제\n",
        "- index(\"값\") : 값의 위치를 불러오기(찾기) "
      ],
      "metadata": {
        "id": "sSsmbMs6vbzj"
      }
    },
    {
      "cell_type": "code",
      "source": [
        "a = [1,4,5,2,3]\n",
        "b = [\"철수\", \"영희\", \"길동\"]\n",
        "print(a.index(4))\n",
        "print(b.index(\"길동\")) "
      ],
      "metadata": {
        "colab": {
          "base_uri": "https://localhost:8080/"
        },
        "id": "xV_az54xvq3N",
        "outputId": "1ef528cb-23ad-49f7-9a9b-b89aca77d838"
      },
      "execution_count": null,
      "outputs": [
        {
          "output_type": "stream",
          "name": "stdout",
          "text": [
            "1\n",
            "2\n"
          ]
        }
      ]
    },
    {
      "cell_type": "markdown",
      "source": [
        "- sort : 리스트의 정렬"
      ],
      "metadata": {
        "id": "fuuQBhThwAts"
      }
    },
    {
      "cell_type": "code",
      "source": [
        "a = [1,4,5,2,3]\n",
        "a.sort()\n",
        "print(a)\n",
        "a.sort(reverse=True)\n",
        "print(a)\n",
        "help(list.sort)\n",
        "help(list.index)"
      ],
      "metadata": {
        "colab": {
          "base_uri": "https://localhost:8080/"
        },
        "id": "klROtsB9wDTs",
        "outputId": "25563801-add9-41df-84fa-17c50dbedcd1"
      },
      "execution_count": null,
      "outputs": [
        {
          "output_type": "stream",
          "name": "stdout",
          "text": [
            "[1, 2, 3, 4, 5]\n",
            "[5, 4, 3, 2, 1]\n",
            "Help on method_descriptor:\n",
            "\n",
            "sort(self, /, *, key=None, reverse=False)\n",
            "    Stable sort *IN PLACE*.\n",
            "\n",
            "Help on method_descriptor:\n",
            "\n",
            "index(self, value, start=0, stop=9223372036854775807, /)\n",
            "    Return first index of value.\n",
            "    \n",
            "    Raises ValueError if the value is not present.\n",
            "\n"
          ]
        }
      ]
    },
    {
      "cell_type": "markdown",
      "source": [
        "## 튜플 \n",
        "- 면접 질문 : 리스트와 튜플의 차이는 무엇인가?\n",
        "- list : []\n",
        " + 수정, 삭제, 추가\n",
        "- 튜플 : ()\n",
        " + 다 안됨\n",
        " "
      ],
      "metadata": {
        "id": "lkqs4-g6x1H-"
      }
    },
    {
      "cell_type": "code",
      "source": [
        "tuple1 = (0)\n",
        "tuple2 = (0, )\n",
        "tuple3 = 0, 1, 2\n",
        "print(type(tuple1))\n",
        "print(type(tuple2))\n",
        "print(type(tuple3)) #콤마가 있으냐 없느냐에 따라서 인트인지 튜플인지 구분된다.\n",
        "\n",
        "print(tuple1) # 그냥 숫자가 프린트된다.\n",
        "print(tuple2)\n",
        "print(tuple3)"
      ],
      "metadata": {
        "colab": {
          "base_uri": "https://localhost:8080/"
        },
        "id": "IJZrjHw0yzVt",
        "outputId": "1811c75d-b577-42df-d494-8bd6955d5ce2"
      },
      "execution_count": null,
      "outputs": [
        {
          "output_type": "stream",
          "name": "stdout",
          "text": [
            "<class 'int'>\n",
            "<class 'tuple'>\n",
            "<class 'tuple'>\n",
            "0\n",
            "(0,)\n",
            "(0, 1, 2)\n"
          ]
        }
      ]
    },
    {
      "cell_type": "code",
      "source": [
        "a = (0,1,2,3,\"a\")\n",
        "del a [4]"
      ],
      "metadata": {
        "colab": {
          "base_uri": "https://localhost:8080/",
          "height": 193
        },
        "id": "rAv9ZlW2zUpN",
        "outputId": "bb69929a-c0e4-410e-e17f-55ffc7663217"
      },
      "execution_count": null,
      "outputs": [
        {
          "output_type": "error",
          "ename": "TypeError",
          "evalue": "ignored",
          "traceback": [
            "\u001b[0;31m---------------------------------------------------------------------------\u001b[0m",
            "\u001b[0;31mTypeError\u001b[0m                                 Traceback (most recent call last)",
            "\u001b[0;32m<ipython-input-146-dbd44eb80870>\u001b[0m in \u001b[0;36m<module>\u001b[0;34m()\u001b[0m\n\u001b[1;32m      1\u001b[0m \u001b[0ma\u001b[0m \u001b[0;34m=\u001b[0m \u001b[0;34m(\u001b[0m\u001b[0;36m0\u001b[0m\u001b[0;34m,\u001b[0m\u001b[0;36m1\u001b[0m\u001b[0;34m,\u001b[0m\u001b[0;36m2\u001b[0m\u001b[0;34m,\u001b[0m\u001b[0;36m3\u001b[0m\u001b[0;34m,\u001b[0m\u001b[0;34m\"a\"\u001b[0m\u001b[0;34m)\u001b[0m\u001b[0;34m\u001b[0m\u001b[0;34m\u001b[0m\u001b[0m\n\u001b[0;32m----> 2\u001b[0;31m \u001b[0;32mdel\u001b[0m \u001b[0ma\u001b[0m \u001b[0;34m[\u001b[0m\u001b[0;36m4\u001b[0m\u001b[0;34m]\u001b[0m\u001b[0;34m\u001b[0m\u001b[0;34m\u001b[0m\u001b[0m\n\u001b[0m",
            "\u001b[0;31mTypeError\u001b[0m: 'tuple' object doesn't support item deletion"
          ]
        }
      ]
    },
    {
      "cell_type": "code",
      "source": [
        "a = [0,1,2,3,\"a\"] #()로 하면 에러뜬다.\n",
        "a[4] = 4\n",
        "print(a)"
      ],
      "metadata": {
        "colab": {
          "base_uri": "https://localhost:8080/"
        },
        "id": "6Vikv_Ga0Vge",
        "outputId": "ee2928e3-c027-46cc-acc8-5221dffeeac3"
      },
      "execution_count": null,
      "outputs": [
        {
          "output_type": "stream",
          "name": "stdout",
          "text": [
            "[0, 1, 2, 3, 4]\n"
          ]
        }
      ]
    },
    {
      "cell_type": "markdown",
      "source": [
        "## 튜플(리스트도 포함) 연산자\n",
        "- 문자열 연산자\n",
        "- +, *\n"
      ],
      "metadata": {
        "id": "eGfPurnw0t-2"
      }
    },
    {
      "cell_type": "code",
      "source": [
        "t1 = [0,1,2] # []로 하든 ()로 하든 동일한 결과값이 나온다.\n",
        "t2 = [3,4,5]\n",
        "print(t1+t2)\n",
        "print(t1*t2)"
      ],
      "metadata": {
        "colab": {
          "base_uri": "https://localhost:8080/",
          "height": 229
        },
        "id": "rNCUuxNr05jO",
        "outputId": "612e1bca-1000-4a75-e836-4180b259e97f"
      },
      "execution_count": null,
      "outputs": [
        {
          "output_type": "stream",
          "name": "stdout",
          "text": [
            "[0, 1, 2, 3, 4, 5]\n"
          ]
        },
        {
          "output_type": "error",
          "ename": "TypeError",
          "evalue": "ignored",
          "traceback": [
            "\u001b[0;31m---------------------------------------------------------------------------\u001b[0m",
            "\u001b[0;31mTypeError\u001b[0m                                 Traceback (most recent call last)",
            "\u001b[0;32m<ipython-input-150-2bab607964b9>\u001b[0m in \u001b[0;36m<module>\u001b[0;34m()\u001b[0m\n\u001b[1;32m      2\u001b[0m \u001b[0mt2\u001b[0m \u001b[0;34m=\u001b[0m \u001b[0;34m[\u001b[0m\u001b[0;36m3\u001b[0m\u001b[0;34m,\u001b[0m\u001b[0;36m4\u001b[0m\u001b[0;34m,\u001b[0m\u001b[0;36m5\u001b[0m\u001b[0;34m]\u001b[0m\u001b[0;34m\u001b[0m\u001b[0;34m\u001b[0m\u001b[0m\n\u001b[1;32m      3\u001b[0m \u001b[0mprint\u001b[0m\u001b[0;34m(\u001b[0m\u001b[0mt1\u001b[0m\u001b[0;34m+\u001b[0m\u001b[0mt2\u001b[0m\u001b[0;34m)\u001b[0m\u001b[0;34m\u001b[0m\u001b[0;34m\u001b[0m\u001b[0m\n\u001b[0;32m----> 4\u001b[0;31m \u001b[0mprint\u001b[0m\u001b[0;34m(\u001b[0m\u001b[0mt1\u001b[0m\u001b[0;34m*\u001b[0m\u001b[0mt2\u001b[0m\u001b[0;34m)\u001b[0m\u001b[0;34m\u001b[0m\u001b[0;34m\u001b[0m\u001b[0m\n\u001b[0m",
            "\u001b[0;31mTypeError\u001b[0m: can't multiply sequence by non-int of type 'list'"
          ]
        }
      ]
    },
    {
      "cell_type": "markdown",
      "source": [
        "## dictionary\n",
        "- keys와 value로 구성됨\n",
        "- cf) 슬라이싱 : 데이터에 순서가 존재해야한다..\n",
        "- 순서라는 개념 자체가 존재하지 않음\n",
        " "
      ],
      "metadata": {
        "id": "4NCeFdaT1Uuu"
      }
    },
    {
      "cell_type": "code",
      "source": [
        "temp_dict = {\n",
        "    'teacher' : 'evan',\n",
        "    'class' :  15,\n",
        "    'students' : ['s1', 's2', 's3']\n",
        "}\n",
        "\n",
        "\n",
        "print(temp_dict[\"teacher\"])\n",
        "print(temp_dict[\"class\"])\n",
        "print(temp_dict[\"students\"])\n",
        "print(temp_dict[\"A\"])\n"
      ],
      "metadata": {
        "colab": {
          "base_uri": "https://localhost:8080/",
          "height": 266
        },
        "id": "58PWKzDh2SF-",
        "outputId": "c662c8d5-a816-466f-c7f7-ae79df6ae051"
      },
      "execution_count": null,
      "outputs": [
        {
          "output_type": "stream",
          "name": "stdout",
          "text": [
            "evan\n",
            "15\n",
            "['s1', 's2', 's3']\n"
          ]
        },
        {
          "output_type": "error",
          "ename": "KeyError",
          "evalue": "ignored",
          "traceback": [
            "\u001b[0;31m---------------------------------------------------------------------------\u001b[0m",
            "\u001b[0;31mKeyError\u001b[0m                                  Traceback (most recent call last)",
            "\u001b[0;32m<ipython-input-165-8ddb924c1f32>\u001b[0m in \u001b[0;36m<module>\u001b[0;34m()\u001b[0m\n\u001b[1;32m      9\u001b[0m \u001b[0mprint\u001b[0m\u001b[0;34m(\u001b[0m\u001b[0mtemp_dict\u001b[0m\u001b[0;34m[\u001b[0m\u001b[0;34m\"class\"\u001b[0m\u001b[0;34m]\u001b[0m\u001b[0;34m)\u001b[0m\u001b[0;34m\u001b[0m\u001b[0;34m\u001b[0m\u001b[0m\n\u001b[1;32m     10\u001b[0m \u001b[0mprint\u001b[0m\u001b[0;34m(\u001b[0m\u001b[0mtemp_dict\u001b[0m\u001b[0;34m[\u001b[0m\u001b[0;34m\"students\"\u001b[0m\u001b[0;34m]\u001b[0m\u001b[0;34m)\u001b[0m\u001b[0;34m\u001b[0m\u001b[0;34m\u001b[0m\u001b[0m\n\u001b[0;32m---> 11\u001b[0;31m \u001b[0mprint\u001b[0m\u001b[0;34m(\u001b[0m\u001b[0mtemp_dict\u001b[0m\u001b[0;34m[\u001b[0m\u001b[0;34m\"A\"\u001b[0m\u001b[0;34m]\u001b[0m\u001b[0;34m)\u001b[0m\u001b[0;34m\u001b[0m\u001b[0;34m\u001b[0m\u001b[0m\n\u001b[0m",
            "\u001b[0;31mKeyError\u001b[0m: 'A'"
          ]
        }
      ]
    },
    {
      "cell_type": "markdown",
      "source": [
        "- keys()값만 출력\n"
      ],
      "metadata": {
        "id": "uIVmfgma7m4A"
      }
    },
    {
      "cell_type": "code",
      "source": [
        "list(temp_dict.keys())\n"
      ],
      "metadata": {
        "colab": {
          "base_uri": "https://localhost:8080/"
        },
        "id": "linF_Gjt7175",
        "outputId": "49ca9d0f-4e97-4b58-bdd8-8443c22eb809"
      },
      "execution_count": null,
      "outputs": [
        {
          "output_type": "execute_result",
          "data": {
            "text/plain": [
              "['teacher', 'class', 'students']"
            ]
          },
          "metadata": {},
          "execution_count": 169
        }
      ]
    },
    {
      "cell_type": "markdown",
      "source": [
        "- value() 값만 출력"
      ],
      "metadata": {
        "id": "3F3UIg-I8VmQ"
      }
    },
    {
      "cell_type": "code",
      "source": [
        "temp_dict.values()"
      ],
      "metadata": {
        "colab": {
          "base_uri": "https://localhost:8080/"
        },
        "id": "O4Y8ihtv8Ylo",
        "outputId": "974ae819-cc58-4525-aa84-fc1d86686025"
      },
      "execution_count": null,
      "outputs": [
        {
          "output_type": "execute_result",
          "data": {
            "text/plain": [
              "dict_values(['evan', 15, ['s1', 's2', 's3']])"
            ]
          },
          "metadata": {},
          "execution_count": 170
        }
      ]
    },
    {
      "cell_type": "markdown",
      "source": [
        "- item() key-values 쌍으로, list와 tuple 형태로 변환 가능하다.\n"
      ],
      "metadata": {
        "id": "LVVnaY5s8fcg"
      }
    },
    {
      "cell_type": "code",
      "source": [
        "temp_dict.items()"
      ],
      "metadata": {
        "colab": {
          "base_uri": "https://localhost:8080/"
        },
        "id": "0-xLqvQm8ojp",
        "outputId": "45bc1dd3-67c1-49a9-c89b-c5ddf76b4aea"
      },
      "execution_count": null,
      "outputs": [
        {
          "output_type": "execute_result",
          "data": {
            "text/plain": [
              "dict_items([('teacher', 'evan'), ('class', 15), ('students', ['s1', 's2', 's3'])])"
            ]
          },
          "metadata": {},
          "execution_count": 171
        }
      ]
    },
    {
      "cell_type": "markdown",
      "source": [
        "## 조건문\n",
        "-"
      ],
      "metadata": {
        "id": "PinV3Mu59FO5"
      }
    },
    {
      "cell_type": "code",
      "source": [
        "a = -5\n",
        "if a > 5:\n",
        "  print(\"a는 5보다 크다\")\n",
        "elif a > 0:\n",
        "  print(\"a는  0보다 크다 \")\n",
        "elif a > -5:\n",
        "  print(\"a는 -5보다 크다\")\n",
        "else:\n",
        "  print(\"a는 매우 작다\")\n",
        "  # 조건문이 만족하는 것만 출력된다."
      ],
      "metadata": {
        "colab": {
          "base_uri": "https://localhost:8080/"
        },
        "id": "q_mW9lnr9HVB",
        "outputId": "ac8a61ec-db55-4742-9fb2-5b4ad5cd155e"
      },
      "execution_count": null,
      "outputs": [
        {
          "output_type": "stream",
          "name": "stdout",
          "text": [
            "a는 매우 작다\n"
          ]
        }
      ]
    },
    {
      "cell_type": "markdown",
      "source": [
        "## 반복문\n"
      ],
      "metadata": {
        "id": "xQyxwEFI_LKJ"
      }
    },
    {
      "cell_type": "code",
      "source": [
        "### Hello world 1,000,000번 출력하세요\n",
        "for i in range(7):  # 여기서 i는 그냥 변수\n",
        "  print(i+1)   \n",
        "  print(\"Hello world\")"
      ],
      "metadata": {
        "colab": {
          "base_uri": "https://localhost:8080/"
        },
        "id": "5cPSvcTg_pRK",
        "outputId": "78b5cdb2-cab5-4e95-d36a-073de3b7116a"
      },
      "execution_count": null,
      "outputs": [
        {
          "output_type": "stream",
          "name": "stdout",
          "text": [
            "1\n",
            "Hello world\n",
            "2\n",
            "Hello world\n",
            "3\n",
            "Hello world\n",
            "4\n",
            "Hello world\n",
            "5\n",
            "Hello world\n",
            "6\n",
            "Hello world\n",
            "7\n",
            "Hello world\n"
          ]
        }
      ]
    },
    {
      "cell_type": "code",
      "source": [
        "### Hello world 1,000,000번 출력하세요\n",
        "for i in range(5):  # 여기서 i는 그냥 변수. 아무거나 넣어도 됌 \n",
        "  print(i+1,\"Hello world\")"
      ],
      "metadata": {
        "colab": {
          "base_uri": "https://localhost:8080/"
        },
        "id": "8b-NbDkuB4SL",
        "outputId": "31539930-6e5e-4a22-fdab-ded7fd89de42"
      },
      "execution_count": null,
      "outputs": [
        {
          "output_type": "stream",
          "name": "stdout",
          "text": [
            "1 Hello world\n",
            "2 Hello world\n",
            "3 Hello world\n",
            "4 Hello world\n",
            "5 Hello world\n"
          ]
        }
      ]
    },
    {
      "cell_type": "markdown",
      "source": [
        "- for loop if 조건문 사용\n",
        "- 문자열 리스트 등 --> 시퀀스 데이터"
      ],
      "metadata": {
        "id": "XHqOLM4cCwnT"
      }
    },
    {
      "cell_type": "code",
      "source": [
        "a = \"Kaggle\"\n",
        "# g 가 시작하면 반복문을 멈추세요\n",
        "for x in a:\n",
        "  print(x)\n",
        "  if x == 'g':\n",
        "    break"
      ],
      "metadata": {
        "colab": {
          "base_uri": "https://localhost:8080/"
        },
        "id": "kUnK8gBQC1tC",
        "outputId": "c647b5a7-57fa-45b9-fc33-0d2ce5401597"
      },
      "execution_count": null,
      "outputs": [
        {
          "output_type": "stream",
          "name": "stdout",
          "text": [
            "K\n",
            "a\n",
            "g\n"
          ]
        }
      ]
    },
    {
      "cell_type": "code",
      "source": [
        "a = \"Kaggle\"\n",
        "# g 가 시작하면 반복문을 멈추세요\n",
        "for x in a:\n",
        "  if x == 'g':\n",
        "    break\n",
        "  print(x)  \n",
        "  # print(x) 의 위치에 따라 결과값이 달라지네??\n",
        "  "
      ],
      "metadata": {
        "colab": {
          "base_uri": "https://localhost:8080/"
        },
        "id": "YQqXDu7BD5dL",
        "outputId": "f66832ff-0624-49dd-8e89-78de7527ab5c"
      },
      "execution_count": null,
      "outputs": [
        {
          "output_type": "stream",
          "name": "stdout",
          "text": [
            "K\n",
            "a\n"
          ]
        }
      ]
    },
    {
      "cell_type": "markdown",
      "source": [
        "- enumerate()"
      ],
      "metadata": {
        "id": "pnfsbPlMEaqC"
      }
    },
    {
      "cell_type": "code",
      "source": [
        "alphabets = ['a', 'b', 'c']\n",
        "for i, value in enumerate(alphabets):\n",
        "  print(i, value)\n"
      ],
      "metadata": {
        "colab": {
          "base_uri": "https://localhost:8080/"
        },
        "id": "DXyqF61WEeZa",
        "outputId": "3c06dd9d-50db-421f-e5e6-163c02f04951"
      },
      "execution_count": null,
      "outputs": [
        {
          "output_type": "stream",
          "name": "stdout",
          "text": [
            "0 a\n",
            "1 b\n",
            "2 c\n"
          ]
        }
      ]
    },
    {
      "cell_type": "markdown",
      "source": [
        "## 리스 컴프리헨션\n",
        "list comprehension #반복문을 한줄로 표시한다"
      ],
      "metadata": {
        "id": "ULpaJPf9FOgL"
      }
    },
    {
      "cell_type": "code",
      "source": [
        "fruits = ['apple', 'kiwi', 'mango']\n",
        "newlists = []\n",
        "\n",
        "# 알파벳 a가 있는 과일만 추출 후, 새로운 리스트에 담기\n",
        "for fruit in fruits:\n",
        "  if \"a\" in fruit:\n",
        "    newlists.append(fruit)\n",
        "print(newlists) # 너무 복잡하네..."
      ],
      "metadata": {
        "colab": {
          "base_uri": "https://localhost:8080/"
        },
        "id": "goTcd3tXFT70",
        "outputId": "51f65b2f-1ed2-45d7-9d21-3c9fb5a80030"
      },
      "execution_count": null,
      "outputs": [
        {
          "output_type": "stream",
          "name": "stdout",
          "text": [
            "['apple', 'mango']\n"
          ]
        }
      ]
    },
    {
      "cell_type": "code",
      "source": [
        "# 리스트 컴프리헨션\n",
        "newlist = [fruit for fruit in fruits if 'a' in fruit] \n",
        "print(newlist) "
      ],
      "metadata": {
        "colab": {
          "base_uri": "https://localhost:8080/"
        },
        "id": "N-01540zGHqE",
        "outputId": "ad847703-340e-4b48-9647-5a46dc15f216"
      },
      "execution_count": null,
      "outputs": [
        {
          "output_type": "stream",
          "name": "stdout",
          "text": [
            "['apple', 'mango']\n"
          ]
        }
      ]
    },
    {
      "cell_type": "markdown",
      "source": [
        "- 줄을 바꾸기 위한 이스케이프 코드 \\n 삽입하기"
      ],
      "metadata": {
        "id": "U8eTEq3dJs1k"
      }
    },
    {
      "cell_type": "code",
      "source": [
        "multiline = \"Life is too short \\nYou need python \"\n",
        "print(multiline)"
      ],
      "metadata": {
        "colab": {
          "base_uri": "https://localhost:8080/"
        },
        "id": "4gcIXLAUJxyl",
        "outputId": "4ab10618-1755-4e99-d52b-32a87e33303f"
      },
      "execution_count": null,
      "outputs": [
        {
          "output_type": "stream",
          "name": "stdout",
          "text": [
            "Life is too short \n",
            "You need python \n"
          ]
        }
      ]
    },
    {
      "cell_type": "code",
      "source": [
        "multiline=\"\"\"\n",
        "Life is too short\n",
        "You need python\n",
        "\"\"\"\n",
        "print(multiline)"
      ],
      "metadata": {
        "colab": {
          "base_uri": "https://localhost:8080/"
        },
        "id": "a4FiSUR-KGoc",
        "outputId": "d3776265-4b2e-42a4-ed0a-57076b4fcf40"
      },
      "execution_count": null,
      "outputs": [
        {
          "output_type": "stream",
          "name": "stdout",
          "text": [
            "\n",
            "Life is too short\n",
            "You need python\n",
            "\n"
          ]
        }
      ]
    },
    {
      "cell_type": "markdown",
      "source": [
        "\\n : 문자열 안에서 줄을 바꿀 때 사용 \n",
        "\\t : 문자열 사이에 탭 간격을 줄 때 사용\n",
        "\\\\ : 문자\\를 그대로 표현할 때 사용 \n",
        "\\' : 작음따옴표(')를 그대로 표현할 때 사용\n",
        "\\\" : 큰따옴표(\")를 그대로 표현할 때 사용"
      ],
      "metadata": {
        "id": "0dSKu7TJLBdY"
      }
    },
    {
      "cell_type": "code",
      "source": [
        "a = \"abcde\\nfg\"\n",
        "print(a)"
      ],
      "metadata": {
        "colab": {
          "base_uri": "https://localhost:8080/"
        },
        "id": "3zGRv9QrMjfk",
        "outputId": "eb2bfe53-2410-4e70-de26-91bd07e6af50"
      },
      "execution_count": null,
      "outputs": [
        {
          "output_type": "stream",
          "name": "stdout",
          "text": [
            "abcde\n",
            "fg\n"
          ]
        }
      ]
    },
    {
      "cell_type": "code",
      "source": [
        "a = \"abcd\\fefg\"\n",
        "print(a)"
      ],
      "metadata": {
        "colab": {
          "base_uri": "https://localhost:8080/"
        },
        "id": "o8LZXqPLM35Y",
        "outputId": "5018affb-81a9-44c1-8ab1-1721fa633bda"
      },
      "execution_count": null,
      "outputs": [
        {
          "output_type": "stream",
          "name": "stdout",
          "text": [
            "abcd\fefg\n"
          ]
        }
      ]
    },
    {
      "cell_type": "code",
      "source": [
        "a = \"abcdef\\'g\\'\"\n",
        "print(a)"
      ],
      "metadata": {
        "colab": {
          "base_uri": "https://localhost:8080/"
        },
        "id": "BWCA1lk2NFhF",
        "outputId": "e22d520c-a44b-462f-8398-89d7349b34e9"
      },
      "execution_count": null,
      "outputs": [
        {
          "output_type": "stream",
          "name": "stdout",
          "text": [
            "abcdef'g'\n"
          ]
        }
      ]
    },
    {
      "cell_type": "code",
      "source": [
        "a = \"abcdef\\\"g\\\"\"\n",
        "print(a)"
      ],
      "metadata": {
        "colab": {
          "base_uri": "https://localhost:8080/"
        },
        "id": "7TzoBZRwNPY1",
        "outputId": "82d13243-4b27-4d88-93a6-5e53b955020f"
      },
      "execution_count": null,
      "outputs": [
        {
          "output_type": "stream",
          "name": "stdout",
          "text": [
            "abcdef\"g\"\n"
          ]
        }
      ]
    },
    {
      "cell_type": "code",
      "source": [
        "head = \"Python\"\n",
        "tail = \"is fun\"\n",
        "head + tail"
      ],
      "metadata": {
        "colab": {
          "base_uri": "https://localhost:8080/",
          "height": 35
        },
        "id": "sHODcUQKNUs9",
        "outputId": "0ff4e5fe-c8f4-48d2-b8fc-b5eeefed75a5"
      },
      "execution_count": null,
      "outputs": [
        {
          "output_type": "execute_result",
          "data": {
            "text/plain": [
              "'Pythonis fun'"
            ],
            "application/vnd.google.colaboratory.intrinsic+json": {
              "type": "string"
            }
          },
          "metadata": {},
          "execution_count": 230
        }
      ]
    },
    {
      "cell_type": "code",
      "source": [
        "a = \"fun\"\n",
        "a*2"
      ],
      "metadata": {
        "colab": {
          "base_uri": "https://localhost:8080/",
          "height": 35
        },
        "id": "QT9NqPSwNbTu",
        "outputId": "7306a102-9f02-43fb-9495-8cbc027fe337"
      },
      "execution_count": null,
      "outputs": [
        {
          "output_type": "execute_result",
          "data": {
            "text/plain": [
              "'funfun'"
            ],
            "application/vnd.google.colaboratory.intrinsic+json": {
              "type": "string"
            }
          },
          "metadata": {},
          "execution_count": 232
        }
      ]
    },
    {
      "cell_type": "markdown",
      "source": [
        "문자열 곱하기를 좀 더 응용해 보자. 다음 소스를 IDLE 에디터를 열고 작성해 보자.\n",
        "\n",
        "# multistring.py\n",
        "\n",
        "print(\"=\" * 50)\n",
        "print(\"My Program\")\n",
        "print(\"=\" * 50)\n",
        "입력한 소스는 C:\\doit 디렉터리에 파일 이름 multistring.py로 저장하자.\n",
        "\n",
        "이제 프로그램을 실행해 보자. [윈도우 + R(실행) → cmd 입력 → Enter]를 눌러 명령 프롬프트 창을 열고 다음을 따라 해 보자. 결괏값이 다음과 같이 나타날 것이다.\n",
        "\n",
        "C:\\Users>cd C:\\doit\n",
        "C:\\doit>python multistring.py\n",
        "==================================================\n",
        "My Program\n",
        "==================================================\n",
        "이런 식의 표현은 앞으로 자주 사용하게 될 것이다. 프로그램을 만들어 실행시켰을 때 출력되는 화면 제일 위쪽에 프로그램 제목을 이와 같이 표시하면 보기 좋지 않겠는가?"
      ],
      "metadata": {
        "id": "k-W4iN5xOSqu"
      }
    },
    {
      "cell_type": "code",
      "source": [
        "a = \"0123456789101112\"\n",
        "len(a)"
      ],
      "metadata": {
        "colab": {
          "base_uri": "https://localhost:8080/"
        },
        "id": "YgexQO0fOTxm",
        "outputId": "f664c073-bb82-4e4c-b95f-d8c26b67535a"
      },
      "execution_count": null,
      "outputs": [
        {
          "output_type": "execute_result",
          "data": {
            "text/plain": [
              "16"
            ]
          },
          "metadata": {},
          "execution_count": 235
        }
      ]
    },
    {
      "cell_type": "code",
      "source": [
        "a = \"12345678910\"\n",
        "a[9:11] # 인덱스가 되어있기 때문에 10을 표현하려면 슬라이싱으로 표현해야한다."
      ],
      "metadata": {
        "colab": {
          "base_uri": "https://localhost:8080/",
          "height": 35
        },
        "id": "intwtsxhOv6-",
        "outputId": "228d63e7-fe41-4c2b-e85f-40628eb3fab7"
      },
      "execution_count": null,
      "outputs": [
        {
          "output_type": "execute_result",
          "data": {
            "text/plain": [
              "'10'"
            ],
            "application/vnd.google.colaboratory.intrinsic+json": {
              "type": "string"
            }
          },
          "metadata": {},
          "execution_count": 249
        }
      ]
    }
  ]
}